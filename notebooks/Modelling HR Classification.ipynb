{
 "cells": [
  {
   "cell_type": "markdown",
   "id": "9b47bede",
   "metadata": {},
   "source": [
    "# Models - HR Classification"
   ]
  },
  {
   "cell_type": "code",
   "execution_count": 1,
   "id": "3d355d45",
   "metadata": {},
   "outputs": [],
   "source": [
    "import numpy as np\n",
    "import pandas as pd\n",
    "import seaborn as sns"
   ]
  },
  {
   "cell_type": "code",
   "execution_count": 2,
   "id": "ba76a737",
   "metadata": {},
   "outputs": [
    {
     "data": {
      "text/html": [
       "<div>\n",
       "<style scoped>\n",
       "    .dataframe tbody tr th:only-of-type {\n",
       "        vertical-align: middle;\n",
       "    }\n",
       "\n",
       "    .dataframe tbody tr th {\n",
       "        vertical-align: top;\n",
       "    }\n",
       "\n",
       "    .dataframe thead th {\n",
       "        text-align: right;\n",
       "    }\n",
       "</style>\n",
       "<table border=\"1\" class=\"dataframe\">\n",
       "  <thead>\n",
       "    <tr style=\"text-align: right;\">\n",
       "      <th></th>\n",
       "      <th>region</th>\n",
       "      <th>no_of_trainings</th>\n",
       "      <th>previous_year_rating</th>\n",
       "      <th>length_of_service</th>\n",
       "      <th>avg_training_score</th>\n",
       "      <th>is_promoted</th>\n",
       "      <th>Female</th>\n",
       "      <th>Male</th>\n",
       "      <th>awards_0</th>\n",
       "      <th>awards_1</th>\n",
       "      <th>KPI_0</th>\n",
       "      <th>KPI_1</th>\n",
       "      <th>qualification</th>\n",
       "    </tr>\n",
       "  </thead>\n",
       "  <tbody>\n",
       "    <tr>\n",
       "      <th>0</th>\n",
       "      <td>2</td>\n",
       "      <td>1</td>\n",
       "      <td>5.0</td>\n",
       "      <td>8</td>\n",
       "      <td>49</td>\n",
       "      <td>0</td>\n",
       "      <td>1</td>\n",
       "      <td>0</td>\n",
       "      <td>1</td>\n",
       "      <td>0</td>\n",
       "      <td>0</td>\n",
       "      <td>1</td>\n",
       "      <td>0.087045</td>\n",
       "    </tr>\n",
       "    <tr>\n",
       "      <th>1</th>\n",
       "      <td>2</td>\n",
       "      <td>1</td>\n",
       "      <td>5.0</td>\n",
       "      <td>4</td>\n",
       "      <td>60</td>\n",
       "      <td>0</td>\n",
       "      <td>0</td>\n",
       "      <td>1</td>\n",
       "      <td>1</td>\n",
       "      <td>0</td>\n",
       "      <td>1</td>\n",
       "      <td>0</td>\n",
       "      <td>0.087045</td>\n",
       "    </tr>\n",
       "    <tr>\n",
       "      <th>2</th>\n",
       "      <td>1</td>\n",
       "      <td>1</td>\n",
       "      <td>3.0</td>\n",
       "      <td>7</td>\n",
       "      <td>50</td>\n",
       "      <td>0</td>\n",
       "      <td>0</td>\n",
       "      <td>1</td>\n",
       "      <td>1</td>\n",
       "      <td>0</td>\n",
       "      <td>1</td>\n",
       "      <td>0</td>\n",
       "      <td>0.043523</td>\n",
       "    </tr>\n",
       "    <tr>\n",
       "      <th>3</th>\n",
       "      <td>2</td>\n",
       "      <td>2</td>\n",
       "      <td>1.0</td>\n",
       "      <td>10</td>\n",
       "      <td>50</td>\n",
       "      <td>0</td>\n",
       "      <td>0</td>\n",
       "      <td>1</td>\n",
       "      <td>1</td>\n",
       "      <td>0</td>\n",
       "      <td>1</td>\n",
       "      <td>0</td>\n",
       "      <td>0.033851</td>\n",
       "    </tr>\n",
       "    <tr>\n",
       "      <th>4</th>\n",
       "      <td>1</td>\n",
       "      <td>1</td>\n",
       "      <td>3.0</td>\n",
       "      <td>2</td>\n",
       "      <td>73</td>\n",
       "      <td>0</td>\n",
       "      <td>0</td>\n",
       "      <td>1</td>\n",
       "      <td>1</td>\n",
       "      <td>0</td>\n",
       "      <td>1</td>\n",
       "      <td>0</td>\n",
       "      <td>0.045940</td>\n",
       "    </tr>\n",
       "    <tr>\n",
       "      <th>...</th>\n",
       "      <td>...</td>\n",
       "      <td>...</td>\n",
       "      <td>...</td>\n",
       "      <td>...</td>\n",
       "      <td>...</td>\n",
       "      <td>...</td>\n",
       "      <td>...</td>\n",
       "      <td>...</td>\n",
       "      <td>...</td>\n",
       "      <td>...</td>\n",
       "      <td>...</td>\n",
       "      <td>...</td>\n",
       "      <td>...</td>\n",
       "    </tr>\n",
       "    <tr>\n",
       "      <th>48602</th>\n",
       "      <td>1</td>\n",
       "      <td>2</td>\n",
       "      <td>1.0</td>\n",
       "      <td>2</td>\n",
       "      <td>49</td>\n",
       "      <td>0</td>\n",
       "      <td>0</td>\n",
       "      <td>1</td>\n",
       "      <td>1</td>\n",
       "      <td>0</td>\n",
       "      <td>1</td>\n",
       "      <td>0</td>\n",
       "      <td>0.080599</td>\n",
       "    </tr>\n",
       "    <tr>\n",
       "      <th>48603</th>\n",
       "      <td>1</td>\n",
       "      <td>1</td>\n",
       "      <td>3.0</td>\n",
       "      <td>17</td>\n",
       "      <td>78</td>\n",
       "      <td>0</td>\n",
       "      <td>0</td>\n",
       "      <td>1</td>\n",
       "      <td>1</td>\n",
       "      <td>0</td>\n",
       "      <td>1</td>\n",
       "      <td>0</td>\n",
       "      <td>0.092004</td>\n",
       "    </tr>\n",
       "    <tr>\n",
       "      <th>48604</th>\n",
       "      <td>1</td>\n",
       "      <td>1</td>\n",
       "      <td>2.0</td>\n",
       "      <td>6</td>\n",
       "      <td>56</td>\n",
       "      <td>0</td>\n",
       "      <td>1</td>\n",
       "      <td>0</td>\n",
       "      <td>1</td>\n",
       "      <td>0</td>\n",
       "      <td>1</td>\n",
       "      <td>0</td>\n",
       "      <td>0.092365</td>\n",
       "    </tr>\n",
       "    <tr>\n",
       "      <th>48605</th>\n",
       "      <td>1</td>\n",
       "      <td>1</td>\n",
       "      <td>5.0</td>\n",
       "      <td>3</td>\n",
       "      <td>79</td>\n",
       "      <td>0</td>\n",
       "      <td>0</td>\n",
       "      <td>1</td>\n",
       "      <td>1</td>\n",
       "      <td>0</td>\n",
       "      <td>0</td>\n",
       "      <td>1</td>\n",
       "      <td>0.087958</td>\n",
       "    </tr>\n",
       "    <tr>\n",
       "      <th>48606</th>\n",
       "      <td>2</td>\n",
       "      <td>1</td>\n",
       "      <td>1.0</td>\n",
       "      <td>5</td>\n",
       "      <td>49</td>\n",
       "      <td>0</td>\n",
       "      <td>0</td>\n",
       "      <td>1</td>\n",
       "      <td>1</td>\n",
       "      <td>0</td>\n",
       "      <td>1</td>\n",
       "      <td>0</td>\n",
       "      <td>0.074600</td>\n",
       "    </tr>\n",
       "  </tbody>\n",
       "</table>\n",
       "<p>48607 rows × 13 columns</p>\n",
       "</div>"
      ],
      "text/plain": [
       "       region  no_of_trainings  previous_year_rating  length_of_service  \\\n",
       "0           2                1                   5.0                  8   \n",
       "1           2                1                   5.0                  4   \n",
       "2           1                1                   3.0                  7   \n",
       "3           2                2                   1.0                 10   \n",
       "4           1                1                   3.0                  2   \n",
       "...       ...              ...                   ...                ...   \n",
       "48602       1                2                   1.0                  2   \n",
       "48603       1                1                   3.0                 17   \n",
       "48604       1                1                   2.0                  6   \n",
       "48605       1                1                   5.0                  3   \n",
       "48606       2                1                   1.0                  5   \n",
       "\n",
       "       avg_training_score  is_promoted  Female  Male  awards_0  awards_1  \\\n",
       "0                      49            0       1     0         1         0   \n",
       "1                      60            0       0     1         1         0   \n",
       "2                      50            0       0     1         1         0   \n",
       "3                      50            0       0     1         1         0   \n",
       "4                      73            0       0     1         1         0   \n",
       "...                   ...          ...     ...   ...       ...       ...   \n",
       "48602                  49            0       0     1         1         0   \n",
       "48603                  78            0       0     1         1         0   \n",
       "48604                  56            0       1     0         1         0   \n",
       "48605                  79            0       0     1         1         0   \n",
       "48606                  49            0       0     1         1         0   \n",
       "\n",
       "       KPI_0  KPI_1  qualification  \n",
       "0          0      1       0.087045  \n",
       "1          1      0       0.087045  \n",
       "2          1      0       0.043523  \n",
       "3          1      0       0.033851  \n",
       "4          1      0       0.045940  \n",
       "...      ...    ...            ...  \n",
       "48602      1      0       0.080599  \n",
       "48603      1      0       0.092004  \n",
       "48604      1      0       0.092365  \n",
       "48605      0      1       0.087958  \n",
       "48606      1      0       0.074600  \n",
       "\n",
       "[48607 rows x 13 columns]"
      ]
     },
     "execution_count": 2,
     "metadata": {},
     "output_type": "execute_result"
    }
   ],
   "source": [
    "df = pd.read_csv(\"../data/HR_Classification_final.csv\")\n",
    "df"
   ]
  },
  {
   "cell_type": "code",
   "execution_count": 3,
   "id": "0abc9dc6",
   "metadata": {},
   "outputs": [],
   "source": [
    "y = df['is_promoted']\n",
    "X = df.drop('is_promoted', axis=1)"
   ]
  },
  {
   "cell_type": "markdown",
   "id": "249f941d",
   "metadata": {},
   "source": [
    "### Splitting dataset into Training and testing"
   ]
  },
  {
   "cell_type": "code",
   "execution_count": 4,
   "id": "bc2ecfb5",
   "metadata": {},
   "outputs": [],
   "source": [
    "from sklearn.model_selection import train_test_split"
   ]
  },
  {
   "cell_type": "code",
   "execution_count": 5,
   "id": "53841706",
   "metadata": {},
   "outputs": [],
   "source": [
    "X_train, X_test, y_train, y_test = train_test_split(X, y, test_size=0.30)"
   ]
  },
  {
   "cell_type": "markdown",
   "id": "c6e2b89a",
   "metadata": {},
   "source": [
    "## Logistic Regression Classifier"
   ]
  },
  {
   "cell_type": "code",
   "execution_count": 6,
   "id": "c130bf69",
   "metadata": {},
   "outputs": [],
   "source": [
    "from sklearn.linear_model import LogisticRegression\n",
    "from sklearn.metrics import accuracy_score\n",
    "from sklearn.metrics import confusion_matrix"
   ]
  },
  {
   "cell_type": "code",
   "execution_count": 7,
   "id": "17c73cf3",
   "metadata": {},
   "outputs": [],
   "source": [
    "LR_classifier = LogisticRegression(solver='lbfgs', max_iter=1000)\n",
    "LR_classifier.fit(X_train, y_train)\n",
    "LR_Predictions = LR_classifier.predict(X_test)"
   ]
  },
  {
   "cell_type": "code",
   "execution_count": 8,
   "id": "932ef62c",
   "metadata": {},
   "outputs": [
    {
     "data": {
      "text/plain": [
       "0.9142837550572585"
      ]
     },
     "execution_count": 8,
     "metadata": {},
     "output_type": "execute_result"
    }
   ],
   "source": [
    "accuracy_score(LR_Predictions, y_test)"
   ]
  },
  {
   "cell_type": "code",
   "execution_count": 9,
   "id": "13a37e87",
   "metadata": {},
   "outputs": [
    {
     "data": {
      "text/plain": [
       "array([[13254,  1185],\n",
       "       [   65,    79]], dtype=int64)"
      ]
     },
     "execution_count": 9,
     "metadata": {},
     "output_type": "execute_result"
    }
   ],
   "source": [
    "LR_ConfusionMatrix = confusion_matrix(LR_Predictions, y_test)\n",
    "LR_ConfusionMatrix"
   ]
  },
  {
   "cell_type": "code",
   "execution_count": 10,
   "id": "50ff4b16",
   "metadata": {},
   "outputs": [
    {
     "data": {
      "text/plain": [
       "<AxesSubplot:>"
      ]
     },
     "execution_count": 10,
     "metadata": {},
     "output_type": "execute_result"
    },
    {
     "data": {
      "image/png": "[encoded data removed]",
      "text/plain": [
       "<Figure size 432x288 with 2 Axes>"
      ]
     },
     "metadata": {
      "needs_background": "light"
     },
     "output_type": "display_data"
    }
   ],
   "source": [
    "sns.heatmap(LR_ConfusionMatrix, annot=True)"
   ]
  },
  {
   "cell_type": "markdown",
   "id": "a06666ee",
   "metadata": {},
   "source": [
    "## Decision Trees"
   ]
  },
  {
   "cell_type": "code",
   "execution_count": 11,
   "id": "dfd24593",
   "metadata": {},
   "outputs": [],
   "source": [
    "from sklearn.tree import DecisionTreeClassifier"
   ]
  },
  {
   "cell_type": "code",
   "execution_count": 12,
   "id": "78ace8b1",
   "metadata": {},
   "outputs": [],
   "source": [
    "DT_classifier = DecisionTreeClassifier()\n",
    "DT_classifier.fit(X_train, y_train)\n",
    "DT_Predictions = DT_classifier.predict(X_test)"
   ]
  },
  {
   "cell_type": "code",
   "execution_count": 13,
   "id": "a60031a7",
   "metadata": {},
   "outputs": [
    {
     "data": {
      "text/plain": [
       "0.8758828773229103"
      ]
     },
     "execution_count": 13,
     "metadata": {},
     "output_type": "execute_result"
    }
   ],
   "source": [
    "accuracy_score(DT_Predictions, y_test)"
   ]
  },
  {
   "cell_type": "code",
   "execution_count": 14,
   "id": "60216606",
   "metadata": {},
   "outputs": [
    {
     "data": {
      "text/plain": [
       "array([[12356,   847],\n",
       "       [  963,   417]], dtype=int64)"
      ]
     },
     "execution_count": 14,
     "metadata": {},
     "output_type": "execute_result"
    }
   ],
   "source": [
    "DT_ConfusionMatrix = confusion_matrix(DT_Predictions, y_test)\n",
    "DT_ConfusionMatrix"
   ]
  },
  {
   "cell_type": "code",
   "execution_count": 15,
   "id": "007092f1",
   "metadata": {},
   "outputs": [
    {
     "data": {
      "text/plain": [
       "<AxesSubplot:>"
      ]
     },
     "execution_count": 15,
     "metadata": {},
     "output_type": "execute_result"
    },
    {
     "data": {
      "image/png": "[encoded data removed]",
      "text/plain": [
       "<Figure size 432x288 with 2 Axes>"
      ]
     },
     "metadata": {
      "needs_background": "light"
     },
     "output_type": "display_data"
    }
   ],
   "source": [
    "sns.heatmap(DT_ConfusionMatrix, annot=True)"
   ]
  },
  {
   "cell_type": "markdown",
   "id": "f7341d5f",
   "metadata": {},
   "source": [
    "## Random Forest"
   ]
  },
  {
   "cell_type": "code",
   "execution_count": 16,
   "id": "39964a23",
   "metadata": {},
   "outputs": [],
   "source": [
    "from sklearn.ensemble import RandomForestClassifier"
   ]
  },
  {
   "cell_type": "code",
   "execution_count": 17,
   "id": "fc9fe6cd",
   "metadata": {},
   "outputs": [],
   "source": [
    "RF_Classifier = RandomForestClassifier()\n",
    "RF_Classifier.fit(X_train, y_train)\n",
    "RF_Predictions = RF_Classifier.predict(X_test)"
   ]
  },
  {
   "cell_type": "code",
   "execution_count": 18,
   "id": "433b928d",
   "metadata": {},
   "outputs": [
    {
     "data": {
      "text/plain": [
       "0.9192210107659604"
      ]
     },
     "execution_count": 18,
     "metadata": {},
     "output_type": "execute_result"
    }
   ],
   "source": [
    "accuracy_score(RF_Predictions, y_test)"
   ]
  },
  {
   "cell_type": "code",
   "execution_count": 19,
   "id": "e15fd452",
   "metadata": {},
   "outputs": [
    {
     "data": {
      "text/plain": [
       "array([[13146,  1005],\n",
       "       [  173,   259]], dtype=int64)"
      ]
     },
     "execution_count": 19,
     "metadata": {},
     "output_type": "execute_result"
    }
   ],
   "source": [
    "RF_ConfusionMatrix = confusion_matrix(RF_Predictions, y_test)\n",
    "RF_ConfusionMatrix"
   ]
  },
  {
   "cell_type": "code",
   "execution_count": 20,
   "id": "d969ee11",
   "metadata": {},
   "outputs": [
    {
     "data": {
      "text/plain": [
       "<AxesSubplot:>"
      ]
     },
     "execution_count": 20,
     "metadata": {},
     "output_type": "execute_result"
    },
    {
     "data": {
      "image/png": "[encoded data removed]",
      "text/plain": [
       "<Figure size 432x288 with 2 Axes>"
      ]
     },
     "metadata": {
      "needs_background": "light"
     },
     "output_type": "display_data"
    }
   ],
   "source": [
    "sns.heatmap(RF_ConfusionMatrix, annot=True)"
   ]
  },
  {
   "cell_type": "markdown",
   "id": "b792ee43",
   "metadata": {},
   "source": [
    "## Naive Bayes"
   ]
  },
  {
   "cell_type": "code",
   "execution_count": 21,
   "id": "90fdd198",
   "metadata": {},
   "outputs": [],
   "source": [
    "from sklearn.naive_bayes import BernoulliNB"
   ]
  },
  {
   "cell_type": "code",
   "execution_count": 22,
   "id": "633e6889",
   "metadata": {},
   "outputs": [],
   "source": [
    "NB_Classifier = BernoulliNB()\n",
    "NB_Classifier.fit(X_train, y_train)\n",
    "NB_Predictions = NB_Classifier.predict(X_test)"
   ]
  },
  {
   "cell_type": "code",
   "execution_count": 23,
   "id": "96a4e19a",
   "metadata": {},
   "outputs": [
    {
     "data": {
      "text/plain": [
       "0.910580813275732"
      ]
     },
     "execution_count": 23,
     "metadata": {},
     "output_type": "execute_result"
    }
   ],
   "source": [
    "accuracy_score(NB_Predictions, y_test)"
   ]
  },
  {
   "cell_type": "code",
   "execution_count": 24,
   "id": "1345ebc0",
   "metadata": {},
   "outputs": [
    {
     "data": {
      "text/plain": [
       "array([[13134,  1119],\n",
       "       [  185,   145]], dtype=int64)"
      ]
     },
     "execution_count": 24,
     "metadata": {},
     "output_type": "execute_result"
    }
   ],
   "source": [
    "NB_ConfusionMatrix = confusion_matrix(NB_Predictions, y_test)\n",
    "NB_ConfusionMatrix"
   ]
  },
  {
   "cell_type": "code",
   "execution_count": 25,
   "id": "df2f998a",
   "metadata": {
    "scrolled": true
   },
   "outputs": [
    {
     "data": {
      "text/plain": [
       "<AxesSubplot:>"
      ]
     },
     "execution_count": 25,
     "metadata": {},
     "output_type": "execute_result"
    },
    {
     "data": {
      "image/png": "[encoded data removed]",
      "text/plain": [
       "<Figure size 432x288 with 2 Axes>"
      ]
     },
     "metadata": {
      "needs_background": "light"
     },
     "output_type": "display_data"
    }
   ],
   "source": [
    "sns.heatmap(NB_ConfusionMatrix, annot=True)"
   ]
  },
  {
   "cell_type": "markdown",
   "id": "1ec43379",
   "metadata": {},
   "source": [
    "### Best model for this dataset is: Random Forest which gave an accuracy of 91.19%"
   ]
  },
  {
   "cell_type": "code",
   "execution_count": 26,
   "id": "2c228af1",
   "metadata": {},
   "outputs": [],
   "source": [
    "import pickle"
   ]
  },
  {
   "cell_type": "code",
   "execution_count": 27,
   "id": "349953ff",
   "metadata": {},
   "outputs": [],
   "source": [
    "with open('../models/final_model_pkl', 'wb') as files:\n",
    "    pickle.dump(RF_Classifier, files)"
   ]
  },
  {
   "cell_type": "markdown",
   "id": "ba57ea63",
   "metadata": {},
   "source": [
    "## Testing on unseen data (Not even from the same CSV)"
   ]
  },
  {
   "cell_type": "code",
   "execution_count": 28,
   "id": "195135b8",
   "metadata": {},
   "outputs": [],
   "source": [
    "df_test = pd.read_csv('../data/HR_Classification_final_test.csv')"
   ]
  },
  {
   "cell_type": "code",
   "execution_count": 29,
   "id": "884322a5",
   "metadata": {},
   "outputs": [
    {
     "data": {
      "text/html": [
       "<div>\n",
       "<style scoped>\n",
       "    .dataframe tbody tr th:only-of-type {\n",
       "        vertical-align: middle;\n",
       "    }\n",
       "\n",
       "    .dataframe tbody tr th {\n",
       "        vertical-align: top;\n",
       "    }\n",
       "\n",
       "    .dataframe thead th {\n",
       "        text-align: right;\n",
       "    }\n",
       "</style>\n",
       "<table border=\"1\" class=\"dataframe\">\n",
       "  <thead>\n",
       "    <tr style=\"text-align: right;\">\n",
       "      <th></th>\n",
       "      <th>region</th>\n",
       "      <th>no_of_trainings</th>\n",
       "      <th>previous_year_rating</th>\n",
       "      <th>length_of_service</th>\n",
       "      <th>avg_training_score</th>\n",
       "      <th>Female</th>\n",
       "      <th>Male</th>\n",
       "      <th>awards_0</th>\n",
       "      <th>awards_1</th>\n",
       "      <th>KPI_0</th>\n",
       "      <th>KPI_1</th>\n",
       "      <th>qualification</th>\n",
       "    </tr>\n",
       "  </thead>\n",
       "  <tbody>\n",
       "    <tr>\n",
       "      <th>0</th>\n",
       "      <td>2</td>\n",
       "      <td>1</td>\n",
       "      <td>3.0</td>\n",
       "      <td>5</td>\n",
       "      <td>51</td>\n",
       "      <td>1</td>\n",
       "      <td>0</td>\n",
       "      <td>1</td>\n",
       "      <td>0</td>\n",
       "      <td>1</td>\n",
       "      <td>0</td>\n",
       "      <td>0.074589</td>\n",
       "    </tr>\n",
       "    <tr>\n",
       "      <th>1</th>\n",
       "      <td>1</td>\n",
       "      <td>1</td>\n",
       "      <td>1.0</td>\n",
       "      <td>4</td>\n",
       "      <td>47</td>\n",
       "      <td>0</td>\n",
       "      <td>1</td>\n",
       "      <td>1</td>\n",
       "      <td>0</td>\n",
       "      <td>1</td>\n",
       "      <td>0</td>\n",
       "      <td>0.080590</td>\n",
       "    </tr>\n",
       "    <tr>\n",
       "      <th>2</th>\n",
       "      <td>1</td>\n",
       "      <td>3</td>\n",
       "      <td>2.0</td>\n",
       "      <td>9</td>\n",
       "      <td>65</td>\n",
       "      <td>1</td>\n",
       "      <td>0</td>\n",
       "      <td>1</td>\n",
       "      <td>0</td>\n",
       "      <td>1</td>\n",
       "      <td>0</td>\n",
       "      <td>0.088432</td>\n",
       "    </tr>\n",
       "    <tr>\n",
       "      <th>3</th>\n",
       "      <td>0</td>\n",
       "      <td>1</td>\n",
       "      <td>4.0</td>\n",
       "      <td>7</td>\n",
       "      <td>61</td>\n",
       "      <td>0</td>\n",
       "      <td>1</td>\n",
       "      <td>1</td>\n",
       "      <td>0</td>\n",
       "      <td>1</td>\n",
       "      <td>0</td>\n",
       "      <td>0.083751</td>\n",
       "    </tr>\n",
       "    <tr>\n",
       "      <th>4</th>\n",
       "      <td>2</td>\n",
       "      <td>1</td>\n",
       "      <td>3.0</td>\n",
       "      <td>2</td>\n",
       "      <td>68</td>\n",
       "      <td>0</td>\n",
       "      <td>1</td>\n",
       "      <td>1</td>\n",
       "      <td>0</td>\n",
       "      <td>1</td>\n",
       "      <td>0</td>\n",
       "      <td>0.089106</td>\n",
       "    </tr>\n",
       "    <tr>\n",
       "      <th>...</th>\n",
       "      <td>...</td>\n",
       "      <td>...</td>\n",
       "      <td>...</td>\n",
       "      <td>...</td>\n",
       "      <td>...</td>\n",
       "      <td>...</td>\n",
       "      <td>...</td>\n",
       "      <td>...</td>\n",
       "      <td>...</td>\n",
       "      <td>...</td>\n",
       "      <td>...</td>\n",
       "      <td>...</td>\n",
       "    </tr>\n",
       "    <tr>\n",
       "      <th>20805</th>\n",
       "      <td>1</td>\n",
       "      <td>1</td>\n",
       "      <td>4.0</td>\n",
       "      <td>2</td>\n",
       "      <td>51</td>\n",
       "      <td>0</td>\n",
       "      <td>1</td>\n",
       "      <td>1</td>\n",
       "      <td>0</td>\n",
       "      <td>1</td>\n",
       "      <td>0</td>\n",
       "      <td>0.080590</td>\n",
       "    </tr>\n",
       "    <tr>\n",
       "      <th>20806</th>\n",
       "      <td>1</td>\n",
       "      <td>1</td>\n",
       "      <td>3.0</td>\n",
       "      <td>1</td>\n",
       "      <td>61</td>\n",
       "      <td>0</td>\n",
       "      <td>1</td>\n",
       "      <td>1</td>\n",
       "      <td>0</td>\n",
       "      <td>1</td>\n",
       "      <td>0</td>\n",
       "      <td>0.071515</td>\n",
       "    </tr>\n",
       "    <tr>\n",
       "      <th>20807</th>\n",
       "      <td>2</td>\n",
       "      <td>1</td>\n",
       "      <td>3.0</td>\n",
       "      <td>7</td>\n",
       "      <td>74</td>\n",
       "      <td>0</td>\n",
       "      <td>1</td>\n",
       "      <td>1</td>\n",
       "      <td>0</td>\n",
       "      <td>1</td>\n",
       "      <td>0</td>\n",
       "      <td>0.091994</td>\n",
       "    </tr>\n",
       "    <tr>\n",
       "      <th>20808</th>\n",
       "      <td>1</td>\n",
       "      <td>1</td>\n",
       "      <td>4.0</td>\n",
       "      <td>4</td>\n",
       "      <td>50</td>\n",
       "      <td>1</td>\n",
       "      <td>0</td>\n",
       "      <td>1</td>\n",
       "      <td>0</td>\n",
       "      <td>1</td>\n",
       "      <td>0</td>\n",
       "      <td>0.075263</td>\n",
       "    </tr>\n",
       "    <tr>\n",
       "      <th>20809</th>\n",
       "      <td>2</td>\n",
       "      <td>3</td>\n",
       "      <td>5.0</td>\n",
       "      <td>5</td>\n",
       "      <td>89</td>\n",
       "      <td>0</td>\n",
       "      <td>1</td>\n",
       "      <td>1</td>\n",
       "      <td>0</td>\n",
       "      <td>0</td>\n",
       "      <td>1</td>\n",
       "      <td>0.096981</td>\n",
       "    </tr>\n",
       "  </tbody>\n",
       "</table>\n",
       "<p>20810 rows × 12 columns</p>\n",
       "</div>"
      ],
      "text/plain": [
       "       region  no_of_trainings  previous_year_rating  length_of_service  \\\n",
       "0           2                1                   3.0                  5   \n",
       "1           1                1                   1.0                  4   \n",
       "2           1                3                   2.0                  9   \n",
       "3           0                1                   4.0                  7   \n",
       "4           2                1                   3.0                  2   \n",
       "...       ...              ...                   ...                ...   \n",
       "20805       1                1                   4.0                  2   \n",
       "20806       1                1                   3.0                  1   \n",
       "20807       2                1                   3.0                  7   \n",
       "20808       1                1                   4.0                  4   \n",
       "20809       2                3                   5.0                  5   \n",
       "\n",
       "       avg_training_score  Female  Male  awards_0  awards_1  KPI_0  KPI_1  \\\n",
       "0                      51       1     0         1         0      1      0   \n",
       "1                      47       0     1         1         0      1      0   \n",
       "2                      65       1     0         1         0      1      0   \n",
       "3                      61       0     1         1         0      1      0   \n",
       "4                      68       0     1         1         0      1      0   \n",
       "...                   ...     ...   ...       ...       ...    ...    ...   \n",
       "20805                  51       0     1         1         0      1      0   \n",
       "20806                  61       0     1         1         0      1      0   \n",
       "20807                  74       0     1         1         0      1      0   \n",
       "20808                  50       1     0         1         0      1      0   \n",
       "20809                  89       0     1         1         0      0      1   \n",
       "\n",
       "       qualification  \n",
       "0           0.074589  \n",
       "1           0.080590  \n",
       "2           0.088432  \n",
       "3           0.083751  \n",
       "4           0.089106  \n",
       "...              ...  \n",
       "20805       0.080590  \n",
       "20806       0.071515  \n",
       "20807       0.091994  \n",
       "20808       0.075263  \n",
       "20809       0.096981  \n",
       "\n",
       "[20810 rows x 12 columns]"
      ]
     },
     "execution_count": 29,
     "metadata": {},
     "output_type": "execute_result"
    }
   ],
   "source": [
    "df_test"
   ]
  },
  {
   "cell_type": "code",
   "execution_count": 30,
   "id": "b67312a9",
   "metadata": {},
   "outputs": [],
   "source": [
    "with open('../models/final_model_pkl' , 'rb') as f:\n",
    "    clf = pickle.load(f)\n",
    "final_predictions = clf.predict(df_test)"
   ]
  },
  {
   "cell_type": "code",
   "execution_count": 31,
   "id": "5353ca52",
   "metadata": {},
   "outputs": [
    {
     "data": {
      "text/plain": [
       "array([0, 0, 0, ..., 0, 0, 0], dtype=int64)"
      ]
     },
     "execution_count": 31,
     "metadata": {},
     "output_type": "execute_result"
    }
   ],
   "source": [
    "final_predictions"
   ]
  },
  {
   "cell_type": "code",
   "execution_count": 32,
   "id": "e93a0bf8",
   "metadata": {},
   "outputs": [
    {
     "data": {
      "text/plain": [
       "611"
      ]
     },
     "execution_count": 32,
     "metadata": {},
     "output_type": "execute_result"
    }
   ],
   "source": [
    "np.sum(final_predictions)"
   ]
  },
  {
   "cell_type": "code",
   "execution_count": 33,
   "id": "9ad93d45",
   "metadata": {},
   "outputs": [
    {
     "data": {
      "text/plain": [
       "20199"
      ]
     },
     "execution_count": 33,
     "metadata": {},
     "output_type": "execute_result"
    }
   ],
   "source": [
    "len(final_predictions) - np.sum(final_predictions)"
   ]
  },
  {
   "cell_type": "code",
   "execution_count": null,
   "id": "2baff072",
   "metadata": {},
   "outputs": [],
   "source": []
  }
 ],
 "metadata": {
  "kernelspec": {
   "display_name": "Python 3 (ipykernel)",
   "language": "python",
   "name": "python3"
  },
  "language_info": {
   "codemirror_mode": {
    "name": "ipython",
    "version": 3
   },
   "file_extension": ".py",
   "mimetype": "text/x-python",
   "name": "python",
   "nbconvert_exporter": "python",
   "pygments_lexer": "ipython3",
   "version": "3.9.6"
  }
 },
 "nbformat": 4,
 "nbformat_minor": 5
}
